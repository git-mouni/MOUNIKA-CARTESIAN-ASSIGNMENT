{
 "cells": [
  {
   "cell_type": "markdown",
   "id": "2b95fbd5",
   "metadata": {},
   "source": [
    "### python assignment"
   ]
  },
  {
   "cell_type": "markdown",
   "id": "5cc1a991",
   "metadata": {},
   "source": [
    "### 1. printing each word in reverse."
   ]
  },
  {
   "cell_type": "code",
   "execution_count": 2,
   "id": "925b8d0a",
   "metadata": {},
   "outputs": [
    {
     "name": "stdout",
     "output_type": "stream",
     "text": [
      "This declaration represents a political commitment among declaration partners to advance a positive vision for the Internet in this era of a united europe\n",
      "Europe united a of era this in internet the for vision positive a advance to partners declaration among commitment political a represents declaration this\n"
     ]
    }
   ],
   "source": [
    "new_string=input()\n",
    "a=new_string.split(' ')\n",
    "reverse_string=' '.join(a[::-1]).lower()\n",
    "b=reverse_string.capitalize()\n",
    "print(b)"
   ]
  },
  {
   "cell_type": "markdown",
   "id": "a7f96d16",
   "metadata": {},
   "source": [
    "### 2.printing Top 2 occurring words in sorted order. The words that have occurred most of the time"
   ]
  },
  {
   "cell_type": "code",
   "execution_count": 9,
   "id": "7fa51ac3",
   "metadata": {},
   "outputs": [
    {
     "name": "stdout",
     "output_type": "stream",
     "text": [
      "[('a', 3), ('this', 2)]\n"
     ]
    }
   ],
   "source": [
    "from collections import Counter\n",
    "split_it = b.split()\n",
    "Counter = Counter(split_it)\n",
    "most_occur = Counter.most_common(2)\n",
    "print(most_occur)"
   ]
  },
  {
   "cell_type": "markdown",
   "id": "daab201d",
   "metadata": {},
   "source": [
    "### Another method"
   ]
  },
  {
   "cell_type": "code",
   "execution_count": 10,
   "id": "953353df",
   "metadata": {},
   "outputs": [
    {
     "data": {
      "text/plain": [
       "{'a': 3, 'this': 2}"
      ]
     },
     "execution_count": 10,
     "metadata": {},
     "output_type": "execute_result"
    }
   ],
   "source": [
    "from collections import Counter\n",
    "def word_count(str):\n",
    "    counts = dict()\n",
    "    words = str.split()\n",
    "\n",
    "    for word in words:\n",
    "        if word in counts:\n",
    "            counts[word] += 1\n",
    "        else:\n",
    "            counts[word] = 1\n",
    "\n",
    "    return counts\n",
    "s=word_count(reverse_string)\n",
    "dict(Counter(s).most_common(2))"
   ]
  },
  {
   "cell_type": "code",
   "execution_count": null,
   "id": "81637cc2",
   "metadata": {},
   "outputs": [],
   "source": []
  },
  {
   "cell_type": "markdown",
   "id": "beaf7bc9",
   "metadata": {},
   "source": [
    "### ASSIGNMENT-01 SQL"
   ]
  },
  {
   "cell_type": "markdown",
   "id": "d13d7a6e",
   "metadata": {},
   "source": [
    "#### SELECT c.id_category, COUNT(p.id_product) AS nproducts\n",
    "#### FROM ps_category AS c\n",
    "#### LEFT JOIN ps_category_product AS cp ON cp.id_category=c.id_category\n",
    "#### LEFT JOIN ps_product AS p ON p.id_product=cp.id_product AND p.active=1\n",
    "#### GROUP BY c.id_category \n",
    "#### ORDER BY nproducts ASC"
   ]
  },
  {
   "cell_type": "code",
   "execution_count": null,
   "id": "961268ca",
   "metadata": {},
   "outputs": [],
   "source": []
  },
  {
   "cell_type": "markdown",
   "id": "6b1da611",
   "metadata": {},
   "source": [
    "### ASSIGNMENT -02 SQL"
   ]
  },
  {
   "cell_type": "markdown",
   "id": "3f12de61",
   "metadata": {},
   "source": [
    " #### CREATE TABLE Customer (Customer_Id varchar(255));\n",
    " #### INSERT INTO Customer VALUES('Customer_Id'),('Abhinash'),('Vipin'),('Mahesh'),('Bijoy'),('Bhabani'),('Ashutosh')\n",
    "    \n",
    " #### CREATE TABLE Voucher (Voucher_Id varchar(255) UNIQUE);\n",
    " #### INSERT INTO Voucher VALUES('ABXFH'),('SDFGH'),('ERTYY'),('PPLKM')\n",
    "    \n",
    " ##### as(select *,row_number() over(order by Customer_Id) rr from Customer)\n",
    " #### ,cte2 as(select *,row_number() over(order by Voucher_Id) rr from Voucher)\n",
    "    \n",
    " #### select Customer_Id Customer_Key,Voucher_Id Gift_Voucher_Key\n",
    " #### from cte c1\n",
    " ####  left join cte2 c2 on c1.rr=c2.rr"
   ]
  },
  {
   "cell_type": "code",
   "execution_count": null,
   "id": "45edee93",
   "metadata": {},
   "outputs": [],
   "source": []
  }
 ],
 "metadata": {
  "kernelspec": {
   "display_name": "Python 3 (ipykernel)",
   "language": "python",
   "name": "python3"
  },
  "language_info": {
   "codemirror_mode": {
    "name": "ipython",
    "version": 3
   },
   "file_extension": ".py",
   "mimetype": "text/x-python",
   "name": "python",
   "nbconvert_exporter": "python",
   "pygments_lexer": "ipython3",
   "version": "3.9.12"
  }
 },
 "nbformat": 4,
 "nbformat_minor": 5
}
